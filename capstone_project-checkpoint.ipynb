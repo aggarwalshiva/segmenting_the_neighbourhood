{
 "cells": [
  {
   "cell_type": "markdown",
   "metadata": {},
   "source": [
    "\n",
    "# Capstone Project - The Battle of Neighbourhoods (Week 1)\n",
    "\n",
    "## Segmenting the Neighbourhoods of New York city (USA) and Toronto (Canada)\n",
    "\n",
    "### Problem Discussion\n",
    "\n",
    "A friend of mine working in New York City (USA) got a job offer in Toronto (Canada). He wants to search a place in Toronto to live with the same facilities and keeping the same standard of living.\n",
    "    He is searching for a place where groceries shop, restaurants and other basic amenities to be nearby to his home as in New York City.\n",
    "\tSo he asked me to help him in searching a place he desired before moving to Toronto. So help him out I have decided to use my Data science skills to find a place for him.\n",
    "    \n",
    "### Problem Category\n",
    "\n",
    "\tThe solution to his problem can be easily solved by using clustering a neighbourhood of Toronto and New York City. Here we will be using K-Means clustering to segmenting and comparing the neighbourhood of New York City and Toronto in each cluster and try to find out a suitable match.\n",
    "    \n",
    "### Data We Need\n",
    "\n",
    "1.\tWe need a latitude and longitude of the borough and its neighbourhood where my friend is currently residing in New York City.\n",
    "This can be easily achieved as we have the data of postal codes of New York City ( https://cocl.us/new_york_dataset ).\n",
    "2.\tNow we use Foursquare API to explore the nearby venues and then cluster the neighbourhood using K-Mean clustering.\n",
    "\n",
    "3.\t Now for comparing the Toronto neighbourhood we have a postal code of Toronto. (https://en.wikipedia.org/wiki/List_of_postal_codes_of_Canada:_M ) .\n",
    "\n",
    "4.\tAgain we use the Foursquare API to explore the venue and search for our neighbourhood will be completed.\n",
    "\n",
    "\n",
    "\t\n"
   ]
  }
 ],
 "metadata": {
  "kernelspec": {
   "display_name": "Python 3",
   "language": "python",
   "name": "python3"
  },
  "language_info": {
   "codemirror_mode": {
    "name": "ipython",
    "version": 3
   },
   "file_extension": ".py",
   "mimetype": "text/x-python",
   "name": "python",
   "nbconvert_exporter": "python",
   "pygments_lexer": "ipython3",
   "version": "3.7.1"
  }
 },
 "nbformat": 4,
 "nbformat_minor": 2
}
